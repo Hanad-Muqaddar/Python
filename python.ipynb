{
 "cells": [
  {
   "cell_type": "code",
   "execution_count": 2,
   "metadata": {},
   "outputs": [
    {
     "name": "stdout",
     "output_type": "stream",
     "text": [
      "abc\n"
     ]
    }
   ],
   "source": [
    "print(\"abc\")"
   ]
  },
  {
   "cell_type": "markdown",
   "metadata": {},
   "source": [
    "### list"
   ]
  },
  {
   "cell_type": "code",
   "execution_count": 3,
   "metadata": {},
   "outputs": [],
   "source": [
    "grocery = [\"alu\", \"palak\", \"loloyop\",\"karekl\",5,5,6,3,2]"
   ]
  },
  {
   "cell_type": "code",
   "execution_count": 4,
   "metadata": {},
   "outputs": [
    {
     "name": "stdout",
     "output_type": "stream",
     "text": [
      "['alu', 'palak', 'loloyop', 'karekl', 5, 5, 6, 3, 2]\n"
     ]
    }
   ],
   "source": [
    "print(grocery)"
   ]
  },
  {
   "cell_type": "code",
   "execution_count": 8,
   "metadata": {},
   "outputs": [],
   "source": [
    "grocery.append(4)"
   ]
  },
  {
   "cell_type": "code",
   "execution_count": 9,
   "metadata": {},
   "outputs": [
    {
     "name": "stdout",
     "output_type": "stream",
     "text": [
      "['alu', 'palak', 'loloyop', 'karekl', 5, 5, 6, 3, 2, 4]\n"
     ]
    }
   ],
   "source": [
    "print(grocery)"
   ]
  },
  {
   "cell_type": "code",
   "execution_count": 12,
   "metadata": {},
   "outputs": [],
   "source": [
    "grocery.reverse()"
   ]
  },
  {
   "cell_type": "code",
   "execution_count": 13,
   "metadata": {},
   "outputs": [
    {
     "name": "stdout",
     "output_type": "stream",
     "text": [
      "[4, 2, 3, 6, 5, 5, 'karekl', 'loloyop', 'palak', 'alu']\n"
     ]
    }
   ],
   "source": [
    "print(grocery)"
   ]
  },
  {
   "cell_type": "code",
   "execution_count": 16,
   "metadata": {},
   "outputs": [],
   "source": [
    "d1 = {\"hanad\":\"nai maloom\", \"kamil\":\"mukamal\", \"bilal\":\"pollard\", \"ajlal\":\"bawa_g\"}"
   ]
  },
  {
   "cell_type": "code",
   "execution_count": 17,
   "metadata": {},
   "outputs": [
    {
     "name": "stdout",
     "output_type": "stream",
     "text": [
      "{'hanad': 'nai maloom', 'kamil': 'mukamal', 'bilal': 'pollard', 'ajlal': 'bawa_g'}\n"
     ]
    }
   ],
   "source": [
    "print(d1)"
   ]
  },
  {
   "cell_type": "code",
   "execution_count": 23,
   "metadata": {},
   "outputs": [
    {
     "name": "stdout",
     "output_type": "stream",
     "text": [
      "Enter any name  to searchbilal\n",
      "pollard\n"
     ]
    }
   ],
   "source": [
    "a = input(\"Enter any name  to search\")\n",
    "print(d1[a])"
   ]
  },
  {
   "cell_type": "code",
   "execution_count": 22,
   "metadata": {},
   "outputs": [
    {
     "name": "stdout",
     "output_type": "stream",
     "text": [
      "Enter any name to searchhanad\n",
      "nai maloom\n"
     ]
    }
   ],
   "source": [
    "print(d1[input(\"Enter any name to search: \")])"
   ]
  },
  {
   "cell_type": "markdown",
   "metadata": {},
   "source": [
    "### ifelse "
   ]
  },
  {
   "cell_type": "code",
   "execution_count": 36,
   "metadata": {},
   "outputs": [
    {
     "name": "stdout",
     "output_type": "stream",
     "text": [
      "Enter your age plz: 101\n",
      "invalid age\n"
     ]
    }
   ],
   "source": [
    "age = int(input(\"Enter your age plz: \"))\n",
    "if age > 18 and age < 100:\n",
    "    print(\"You can drive\")\n",
    "elif age == 18:\n",
    "    print(\"Come for physical test\")\n",
    "elif age < 8 and  age > 5:\n",
    "    print(\"you can't drive\")\n",
    "else:\n",
    "    print(\"invalid age\")\n"
   ]
  },
  {
   "cell_type": "markdown",
   "metadata": {},
   "source": [
    "### Quiz fauklty calculator"
   ]
  },
  {
   "cell_type": "code",
   "execution_count": 8,
   "metadata": {},
   "outputs": [
    {
     "name": "stdout",
     "output_type": "stream",
     "text": [
      "Enter first Value: 56\n",
      "Enter 2nd value: 9\n",
      "Enter the operator: +\n",
      "77\n"
     ]
    }
   ],
   "source": [
    "a = int(input(\"Enter first Value: \"))\n",
    "b = int(input(\"Enter 2nd value: \"))\n",
    "ope = input(\"Enter the operator: \")\n",
    "#4*3=555 56+9=77  56/6=4\n",
    "if(a == 45 and b == 3 and ope == '*'):\n",
    "    print(\"555\")\n",
    "elif(a == 56 and b == 9 and ope == '+'):\n",
    "    print(\"77\")\n",
    "elif(a == 56 and b == 6 and ope == '/'):\n",
    "    print(\"4\")\n",
    "elif(ope == '+'):\n",
    "    print(\"THe sum is: \", a + b)\n",
    "elif(ope == '-'):\n",
    "    print(\"The subtraction is: \", a - b)\n",
    "elif(ope == '*'):\n",
    "    print(\"The multiplication is: \", a * b)\n",
    "elif(ope == '/'):\n",
    "    print(\"The division is: \", a / b)\n",
    "\n"
   ]
  },
  {
   "cell_type": "markdown",
   "metadata": {},
   "source": [
    "### for loop"
   ]
  },
  {
   "cell_type": "code",
   "execution_count": 18,
   "metadata": {},
   "outputs": [
    {
     "name": "stdout",
     "output_type": "stream",
     "text": [
      "8\n",
      "9\n",
      "56\n"
     ]
    }
   ],
   "source": [
    "list1 = [\"harray\", 6, \"hanad\", \"azan\", 4, 8, 9,0, \"kamil\", 56]\n",
    "for item in list1:\n",
    "    if str(item).isnumeric() and item > 6:\n",
    "        print(item)\n",
    "    \n",
    "        "
   ]
  },
  {
   "cell_type": "markdown",
   "metadata": {},
   "source": [
    "### while loop"
   ]
  },
  {
   "cell_type": "code",
   "execution_count": 1,
   "metadata": {},
   "outputs": [
    {
     "name": "stdout",
     "output_type": "stream",
     "text": [
      "0\n",
      "1\n",
      "2\n",
      "3\n",
      "4\n",
      "5\n",
      "6\n",
      "7\n",
      "8\n",
      "9\n"
     ]
    }
   ],
   "source": [
    "i = 0\n",
    "while(i<10):\n",
    "    print(i)\n",
    "    i = i + 1"
   ]
  },
  {
   "cell_type": "code",
   "execution_count": 1,
   "metadata": {},
   "outputs": [
    {
     "name": "stdout",
     "output_type": "stream",
     "text": [
      "Hi welcome to you: \n",
      "Enter a number: 12\n",
      "Enter a number: 45\n",
      "Enter a number: 78\n",
      "Enter a number: 110\n",
      "Congrats you enter more than 100\n"
     ]
    }
   ],
   "source": [
    "print(\"Hi welcome to you: \")\n",
    "i=0\n",
    "while(True):\n",
    "    a = int(input(\"Enter a number: \"))\n",
    "    if(a < 100):\n",
    "        continue\n",
    "    else:\n",
    "        print(\"Congrats you enter more than 100\")\n",
    "        break\n",
    "    "
   ]
  },
  {
   "cell_type": "code",
   "execution_count": 1,
   "metadata": {},
   "outputs": [
    {
     "name": "stdout",
     "output_type": "stream",
     "text": [
      "Welcome to gussing game: \n",
      "Enter your gussing number: 12\n",
      "Select a bigger number\n",
      "Gusses remaning:  4\n",
      "Enter your gussing number: 15\n",
      "Select a bigger number\n",
      "Gusses remaning:  3\n",
      "Enter your gussing number: 20\n",
      "Select a bigger number\n",
      "Gusses remaning:  2\n",
      "Enter your gussing number: 21\n",
      "Select a bigger number\n",
      "Gusses remaning:  1\n",
      "Enter your gussing number: 22\n",
      "Select a bigger number\n",
      "Gusses remaning:  0\n",
      "Game over\n"
     ]
    }
   ],
   "source": [
    "print(\"Welcome to gussing game: \")\n",
    "number = 25\n",
    "guesses = 5\n",
    "nu = 0\n",
    "while(True):\n",
    "    inp = int(input(\"Enter your gussing number: \"))\n",
    "    guesses = guesses - 1\n",
    "    nu = nu + 1\n",
    "    if(inp > number):\n",
    "        print(\"Select a smaller number\")\n",
    "        print(\"Gusses remaning: \", guesses)\n",
    "        if(guesses == 0):\n",
    "            print(\"Game over\")\n",
    "            break\n",
    "        continue\n",
    "    if(inp < number):\n",
    "        print(\"Select a bigger number\")\n",
    "        print(\"Gusses remaning: \", guesses)\n",
    "        if(guesses == 0):\n",
    "            print(\"Game over\")\n",
    "            break\n",
    "        continue\n",
    "    if(inp == number):\n",
    "        print(\"Congrats You have done it\")\n",
    "        print(\"Number he takes to guess: \", nu)\n",
    "        break\n",
    "\n",
    "\n",
    "    "
   ]
  },
  {
   "cell_type": "markdown",
   "metadata": {},
   "source": [
    "### Functions"
   ]
  },
  {
   "cell_type": "code",
   "execution_count": 2,
   "metadata": {},
   "outputs": [
    {
     "name": "stdout",
     "output_type": "stream",
     "text": [
      "13\n"
     ]
    }
   ],
   "source": [
    "a = 6\n",
    "b= 7\n",
    "c = sum((a,b))\n",
    "print(c)"
   ]
  },
  {
   "cell_type": "code",
   "execution_count": 19,
   "metadata": {},
   "outputs": [
    {
     "name": "stdout",
     "output_type": "stream",
     "text": [
      "Welcome\n",
      "Enter any number to print pattren: \n",
      "4\n",
      "*\n",
      "**\n",
      "***\n",
      "****\n"
     ]
    }
   ],
   "source": [
    "print(\"Welcome\")\n",
    "print(\"Enter any number to print pattren: \")\n",
    "n = int(input());\n",
    "for i in range(0, n):\n",
    "    for b in range(0, i+1):\n",
    "        print(\"*\", end=\"\")\n",
    "    print(\"\\r\")\n",
    "        "
   ]
  },
  {
   "cell_type": "code",
   "execution_count": 22,
   "metadata": {},
   "outputs": [
    {
     "data": {
      "text/plain": [
       "610"
      ]
     },
     "execution_count": 22,
     "metadata": {},
     "output_type": "execute_result"
    }
   ],
   "source": [
    "def fab(n):\n",
    "    if n ==0:\n",
    "        return 0\n",
    "    elif n== 1:\n",
    "        return 1\n",
    "    else:\n",
    "        return fab(n-1) + fab(n-2)\n",
    "fab(15)"
   ]
  },
  {
   "cell_type": "code",
   "execution_count": null,
   "metadata": {},
   "outputs": [],
   "source": []
  }
 ],
 "metadata": {
  "kernelspec": {
   "display_name": "Python 3",
   "language": "python",
   "name": "python3"
  },
  "language_info": {
   "codemirror_mode": {
    "name": "ipython",
    "version": 3
   },
   "file_extension": ".py",
   "mimetype": "text/x-python",
   "name": "python",
   "nbconvert_exporter": "python",
   "pygments_lexer": "ipython3",
   "version": "3.7.3"
  }
 },
 "nbformat": 4,
 "nbformat_minor": 2
}
